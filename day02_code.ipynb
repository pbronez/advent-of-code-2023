{
 "cells": [
  {
   "cell_type": "code",
   "execution_count": 11,
   "id": "aa831a12-6389-4931-be9a-d55a7fc8ad3b",
   "metadata": {},
   "outputs": [
    {
     "data": {
      "text/plain": [
       "['Game 1: 3 blue, 4 red; 1 red, 2 green, 6 blue; 2 green\\n',\n",
       " 'Game 2: 1 blue, 2 green; 3 green, 4 blue, 1 red; 1 green, 1 blue\\n',\n",
       " 'Game 3: 8 green, 6 blue, 20 red; 5 blue, 4 red, 13 green; 5 green, 1 red\\n',\n",
       " 'Game 4: 1 green, 3 red, 6 blue; 3 green, 6 red; 3 green, 15 blue, 14 red\\n',\n",
       " 'Game 5: 6 red, 1 blue, 3 green; 2 blue, 1 red, 2 green']"
      ]
     },
     "execution_count": 11,
     "metadata": {},
     "output_type": "execute_result"
    }
   ],
   "source": [
    "# Load Data\n",
    "with open('day02_train.txt', 'r') as file:\n",
    "    train_data = file.readlines()\n",
    "\n",
    "with open('day02_test.txt', 'r') as file:\n",
    "    test_data = file.readlines()\n",
    "\n",
    "train_data"
   ]
  },
  {
   "cell_type": "code",
   "execution_count": 18,
   "id": "d1823fae-bf0a-4ac6-a8a0-fbbfc5783b10",
   "metadata": {},
   "outputs": [],
   "source": [
    "import pprint\n",
    "pp = pprint.PrettyPrinter(indent=4)"
   ]
  },
  {
   "cell_type": "code",
   "execution_count": 19,
   "id": "8b50aa3b-d5ab-4a7b-97c3-ded5cf6484ca",
   "metadata": {},
   "outputs": [
    {
     "name": "stdout",
     "output_type": "stream",
     "text": [
      "Game 1: 3 blue, 4 red; 1 red, 2 green, 6 blue; 2 green\n",
      "\n",
      "{   'draws': [   {'blue': 3, 'red': 4},\n",
      "                 {'blue': 6, 'green': 2, 'red': 1},\n",
      "                 {'green': 2}],\n",
      "    'game': 1}\n",
      "Game 2: 1 blue, 2 green; 3 green, 4 blue, 1 red; 1 green, 1 blue\n",
      "\n",
      "{   'draws': [   {'blue': 1, 'green': 2},\n",
      "                 {'blue': 4, 'green': 3, 'red': 1},\n",
      "                 {'blue': 1, 'green': 1}],\n",
      "    'game': 2}\n",
      "Game 3: 8 green, 6 blue, 20 red; 5 blue, 4 red, 13 green; 5 green, 1 red\n",
      "\n",
      "{   'draws': [   {'blue': 6, 'green': 8, 'red': 20},\n",
      "                 {'blue': 5, 'green': 13, 'red': 4},\n",
      "                 {'green': 5, 'red': 1}],\n",
      "    'game': 3}\n",
      "Game 4: 1 green, 3 red, 6 blue; 3 green, 6 red; 3 green, 15 blue, 14 red\n",
      "\n",
      "{   'draws': [   {'blue': 6, 'green': 1, 'red': 3},\n",
      "                 {'green': 3, 'red': 6},\n",
      "                 {'blue': 15, 'green': 3, 'red': 14}],\n",
      "    'game': 4}\n",
      "Game 5: 6 red, 1 blue, 3 green; 2 blue, 1 red, 2 green\n",
      "{   'draws': [   {'blue': 1, 'green': 3, 'red': 6},\n",
      "                 {'blue': 2, 'green': 2, 'red': 1}],\n",
      "    'game': 5}\n"
     ]
    }
   ],
   "source": [
    "def parse_games(game_list):\n",
    "    parsed_games = []\n",
    "\n",
    "    for game in game_list:\n",
    "        # Splitting the line into parts\n",
    "        parts = game.strip().split(': ')\n",
    "        game_number = int(parts[0].split(' ')[1])\n",
    "        draws = parts[1].split('; ')\n",
    "\n",
    "        game_info = {'game': game_number, 'draws': []}\n",
    "\n",
    "        for draw in draws:\n",
    "            draw_dict = {}\n",
    "            for color_count in draw.split(', '):\n",
    "                count, color = color_count.rsplit(' ', 1)\n",
    "                draw_dict[color] = int(count)\n",
    "            game_info['draws'].append(draw_dict)\n",
    "\n",
    "        parsed_games.append(game_info)\n",
    "\n",
    "    return parsed_games\n",
    "\n",
    "train_games = parse_games(train_data)\n",
    "test_games = parse_games(test_data)\n",
    "for idx, val in enumerate(train_data):\n",
    "    print(val)\n",
    "    pp.pprint(train_games[idx])"
   ]
  },
  {
   "cell_type": "code",
   "execution_count": 21,
   "id": "63ea550e-1d52-4a22-9c82-815b63c31693",
   "metadata": {},
   "outputs": [
    {
     "name": "stdout",
     "output_type": "stream",
     "text": [
      "Game 1 possible? True\n",
      "Game 2 possible? True\n",
      "Game 3 possible? False\n",
      "Game 4 possible? False\n",
      "Game 5 possible? True\n"
     ]
    }
   ],
   "source": [
    "constraint = {\"red\":12, \"green\":13, \"blue\":14}\n",
    "\n",
    "def possible_game(draws, constraint):\n",
    "    try:\n",
    "        for draw in draws:\n",
    "            for k in draw.keys():\n",
    "                # could check both of these at once\n",
    "                assert k in constraint.keys()\n",
    "                assert constraint[k] >= draw[k]\n",
    "        return True\n",
    "    except AssertionError:\n",
    "        return False\n",
    "\n",
    "for g in train_games:\n",
    "    print(f\"Game {g[\"game\"]} possible? {possible_game(g[\"draws\"], constraint)}\")"
   ]
  },
  {
   "cell_type": "code",
   "execution_count": 24,
   "id": "c22f6579-eee5-4a18-be73-be455ca12d48",
   "metadata": {},
   "outputs": [
    {
     "name": "stdout",
     "output_type": "stream",
     "text": [
      "Train: 8\n",
      "Test: 2331\n"
     ]
    }
   ],
   "source": [
    "def sum_possible_games(games, rules=constraint):\n",
    "    total = 0\n",
    "    for g in games:\n",
    "        if possible_game(g[\"draws\"], rules):\n",
    "            total += g[\"game\"]\n",
    "    return total\n",
    "\n",
    "print(f\"Train: {sum_possible_games(train_games)}\")\n",
    "print(f\"Test: {sum_possible_games(test_games)}\")"
   ]
  },
  {
   "cell_type": "markdown",
   "id": "11e7bd99-4709-48d1-94ac-42eac2cdb415",
   "metadata": {},
   "source": [
    "# Part 2"
   ]
  },
  {
   "cell_type": "code",
   "execution_count": 33,
   "id": "70ac12df-7e1f-4ca2-870f-236005f55a8c",
   "metadata": {},
   "outputs": [
    {
     "name": "stdout",
     "output_type": "stream",
     "text": [
      "Train: 2286\n",
      "Test: 71585\n"
     ]
    }
   ],
   "source": [
    "def minimum_cubes(draws):\n",
    "    min_cubes = {}\n",
    "    for d in draws:\n",
    "        for k, v in d.items():\n",
    "            min_cubes[k] = max(v, min_cubes.get(k, 0))\n",
    "    return min_cubes\n",
    "\n",
    "def game_power(min_cubes):\n",
    "    power = 1\n",
    "    for v in min_cubes.values():\n",
    "        power *= v\n",
    "    return power\n",
    "\n",
    "def total_power(games):\n",
    "    total = 0\n",
    "    for g in games:\n",
    "        total += game_power(minimum_cubes(g[\"draws\"]))\n",
    "    return total\n",
    "\n",
    "print(f\"Train: {total_power(train_games)}\")\n",
    "print(f\"Test: {total_power(test_games)}\")\n"
   ]
  },
  {
   "cell_type": "code",
   "execution_count": 26,
   "id": "3d08cc0b-e255-461d-8ee2-549088df5f2a",
   "metadata": {},
   "outputs": [
    {
     "ename": "TypeError",
     "evalue": "'>' not supported between instances of 'NoneType' and 'int'",
     "output_type": "error",
     "traceback": [
      "\u001b[0;31m---------------------------------------------------------------------------\u001b[0m",
      "\u001b[0;31mTypeError\u001b[0m                                 Traceback (most recent call last)",
      "Cell \u001b[0;32mIn[26], line 1\u001b[0m\n\u001b[0;32m----> 1\u001b[0m \u001b[38;5;28;43mmax\u001b[39;49m\u001b[43m(\u001b[49m\u001b[38;5;241;43m1\u001b[39;49m\u001b[43m,\u001b[49m\u001b[38;5;28;43;01mNone\u001b[39;49;00m\u001b[43m)\u001b[49m\n",
      "\u001b[0;31mTypeError\u001b[0m: '>' not supported between instances of 'NoneType' and 'int'"
     ]
    }
   ],
   "source": [
    "max(1,None)"
   ]
  },
  {
   "cell_type": "code",
   "execution_count": null,
   "id": "430d389c-6bd1-4055-b295-422d950389b3",
   "metadata": {},
   "outputs": [],
   "source": []
  }
 ],
 "metadata": {
  "kernelspec": {
   "display_name": "Python 3 (ipykernel)",
   "language": "python",
   "name": "python3"
  },
  "language_info": {
   "codemirror_mode": {
    "name": "ipython",
    "version": 3
   },
   "file_extension": ".py",
   "mimetype": "text/x-python",
   "name": "python",
   "nbconvert_exporter": "python",
   "pygments_lexer": "ipython3",
   "version": "3.12.0"
  }
 },
 "nbformat": 4,
 "nbformat_minor": 5
}
