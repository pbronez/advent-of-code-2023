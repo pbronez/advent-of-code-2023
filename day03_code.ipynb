{
 "cells": [
  {
   "cell_type": "markdown",
   "id": "11cd1749-4bc1-4f8e-85bd-866e110f947b",
   "metadata": {},
   "source": [
    "# Day 3: Gear Ratios\n",
    "You and the Elf eventually reach a gondola lift station; he says the gondola lift will take you up to the water source, but this is as far as he can bring you. You go inside.\n",
    "\n",
    "It doesn't take long to find the gondolas, but there seems to be a problem: they're not moving.\n",
    "\n",
    "\"Aaah!\"\n",
    "\n",
    "You turn around to see a slightly-greasy Elf with a wrench and a look of surprise. \"Sorry, I wasn't expecting anyone! The gondola lift isn't working right now; it'll still be a while before I can fix it.\" You offer to help.\n",
    "\n",
    "The engineer explains that an engine part seems to be missing from the engine, but nobody can figure out which one. If you can add up all the part numbers in the engine schematic, it should be easy to work out which part is missing.\n",
    "\n",
    "The engine schematic (your puzzle input) consists of a visual representation of the engine. There are lots of numbers and symbols you don't really understand, but apparently any number adjacent to a symbol, even diagonally, is a \"part number\" and should be included in your sum. (Periods (.) do not count as a symbol.)\n",
    "\n",
    "Here is an example engine schematic:\n",
    "```\n",
    "467..114..\n",
    "...*......\n",
    "..35..633.\n",
    "......#...\n",
    "617*......\n",
    ".....+.58.\n",
    "..592.....\n",
    "......755.\n",
    "...$.*....\n",
    ".664.598..\n",
    "```\n",
    "In this schematic, two numbers are not part numbers because they are not adjacent to a symbol: 114 (top right) and 58 (middle right). Every other number is adjacent to a symbol and so is a part number; their sum is 4361.\n",
    "\n",
    "Of course, the actual engine schematic is much larger. What is the sum of all of the part numbers in the engine schematic?"
   ]
  },
  {
   "cell_type": "code",
   "execution_count": null,
   "id": "464adbe9-9179-4705-933e-1d560445e88e",
   "metadata": {},
   "outputs": [],
   "source": []
  },
  {
   "cell_type": "code",
   "execution_count": 2,
   "id": "c72584db-2404-465e-a6d2-98fccc4fc1ab",
   "metadata": {},
   "outputs": [
    {
     "data": {
      "text/plain": [
       "['467..114..\\n',\n",
       " '...*......\\n',\n",
       " '..35..633.\\n',\n",
       " '......#...\\n',\n",
       " '617*......\\n',\n",
       " '.....+.58.\\n',\n",
       " '..592.....\\n',\n",
       " '......755.\\n',\n",
       " '...$.*....\\n',\n",
       " '.664.598..']"
      ]
     },
     "execution_count": 2,
     "metadata": {},
     "output_type": "execute_result"
    }
   ],
   "source": [
    "# Load Data\n",
    "with open('day03_train.txt', 'r') as file:\n",
    "    train_data = file.readlines()\n",
    "\n",
    "with open('day03_test.txt', 'r') as file:\n",
    "    test_data = file.readlines()"
   ]
  },
  {
   "cell_type": "code",
   "execution_count": 72,
   "id": "e75258b2-9cbb-4eef-8c71-f99e397d1829",
   "metadata": {
    "scrolled": true
   },
   "outputs": [
    {
     "data": {
      "text/plain": [
       "{(0, 0): '4',\n",
       " (1, 0): '6',\n",
       " (2, 0): '7',\n",
       " (5, 0): '1',\n",
       " (6, 0): '1',\n",
       " (7, 0): '4',\n",
       " (3, 1): '*',\n",
       " (2, 2): '3',\n",
       " (3, 2): '5',\n",
       " (6, 2): '6',\n",
       " (7, 2): '3',\n",
       " (8, 2): '3',\n",
       " (6, 3): '#',\n",
       " (0, 4): '6',\n",
       " (1, 4): '1',\n",
       " (2, 4): '7',\n",
       " (3, 4): '*',\n",
       " (5, 5): '+',\n",
       " (7, 5): '5',\n",
       " (8, 5): '8',\n",
       " (2, 6): '5',\n",
       " (3, 6): '9',\n",
       " (4, 6): '2',\n",
       " (6, 7): '7',\n",
       " (7, 7): '5',\n",
       " (8, 7): '5',\n",
       " (3, 8): '$',\n",
       " (5, 8): '*',\n",
       " (1, 9): '6',\n",
       " (2, 9): '6',\n",
       " (3, 9): '4',\n",
       " (5, 9): '5',\n",
       " (6, 9): '9',\n",
       " (7, 9): '8'}"
      ]
     },
     "execution_count": 72,
     "metadata": {},
     "output_type": "execute_result"
    }
   ],
   "source": [
    "def sparsify(lines):\n",
    "    fragments = {}\n",
    "    prev_char = None\n",
    "    for l, chars in enumerate(lines):\n",
    "        for c, char in enumerate(chars):\n",
    "            this_coord = (c, l)\n",
    "            if char in '.\\n':\n",
    "                continue\n",
    "            fragments[this_coord] = char\n",
    "    return fragments\n",
    "\n",
    "sparsify(train_data)         "
   ]
  },
  {
   "cell_type": "code",
   "execution_count": 58,
   "id": "fce174a9-3e3e-4316-8f53-2a5a36084ede",
   "metadata": {
    "scrolled": true
   },
   "outputs": [
    {
     "data": {
      "text/plain": [
       "{'numbers': {(0, 0): '467',\n",
       "  (5, 0): '114',\n",
       "  (2, 2): '35',\n",
       "  (6, 2): '633',\n",
       "  (0, 4): '617',\n",
       "  (7, 5): '58',\n",
       "  (2, 6): '592',\n",
       "  (6, 7): '755',\n",
       "  (1, 9): '664',\n",
       "  (5, 9): '598'},\n",
       " 'symbols': {(3, 1): '*',\n",
       "  (6, 3): '#',\n",
       "  (3, 4): '*',\n",
       "  (5, 5): '+',\n",
       "  (3, 8): '$',\n",
       "  (5, 8): '*'},\n",
       " 'gears': []}"
      ]
     },
     "execution_count": 58,
     "metadata": {},
     "output_type": "execute_result"
    }
   ],
   "source": [
    "def sparsify_and_accumulate(lines):\n",
    "    fragments = {\"numbers\":{}, \"symbols\": {}, \"gears\": []}\n",
    "    for l, chars in enumerate(lines):\n",
    "        num_start_coord = None\n",
    "        for i, char in enumerate(chars):\n",
    "            this_coord = (i, l)\n",
    "            if char in '.\\n':\n",
    "                num_start_coord = None\n",
    "                continue\n",
    "            elif char.isdigit():\n",
    "                if num_start_coord is None:\n",
    "                    num_start_coord = this_coord\n",
    "                    fragments[\"numbers\"][num_start_coord] = char\n",
    "                else:\n",
    "                    fragments[\"numbers\"][num_start_coord] += char\n",
    "            else:\n",
    "                num_start_coord = None\n",
    "                fragments[\"symbols\"][this_coord] = char\n",
    "    return fragments\n",
    "\n",
    "sparsify_and_accumulate(train_data)         "
   ]
  },
  {
   "cell_type": "code",
   "execution_count": 74,
   "id": "fe1b74fc-cc87-4122-9cce-a21369d603bf",
   "metadata": {},
   "outputs": [
    {
     "name": "stdout",
     "output_type": "stream",
     "text": [
      "Train:  4361 (4361)\n",
      "Test:  559667\n"
     ]
    }
   ],
   "source": [
    "def qualify(fragments):\n",
    "    numbers, symbols = fragments[\"numbers\"], fragments[\"symbols\"]\n",
    "    qualified = []\n",
    "    for c, n in numbers.items():\n",
    "        left, right = c[0] - 1, c[0] + len(n)\n",
    "        top, bottom = c[1] - 1, c[1] + 1\n",
    "        candidates = []\n",
    "        for x in range(left, right+1):\n",
    "            for y in range(top, bottom+1):\n",
    "                candidates.append((x,y))\n",
    "        for x, y in candidates:\n",
    "            if (x, y) in symbols:\n",
    "                qualified.append(int(n))\n",
    "                continue\n",
    "    return qualified\n",
    "print(\"Train: \",\n",
    "      str(sum(qualify(sparsify_and_accumulate(train_data)))),\n",
    "      \"(4361)\")\n",
    "print(\"Test: \", str(sum(qualify(sparsify_and_accumulate(test_data)))))"
   ]
  },
  {
   "cell_type": "markdown",
   "id": "970f1fcd-93b8-4496-80d6-b3f6c9320237",
   "metadata": {},
   "source": [
    "# Part 2"
   ]
  },
  {
   "cell_type": "code",
   "execution_count": 71,
   "id": "bed5bd54-5833-44bd-bd75-64af531e7512",
   "metadata": {},
   "outputs": [
    {
     "name": "stdout",
     "output_type": "stream",
     "text": [
      "Training\n",
      " Gears:  defaultdict(<class 'list'>, {(3, 1): [467, 35], (3, 4): [617], (5, 8): [755, 598]}) /nRatios:  [16345, 0, 451490] /nTotal:  467835 (should be 467835)\n",
      "Test:  86841457\n"
     ]
    }
   ],
   "source": [
    "from collections import defaultdict\n",
    "def find_gears(fragments):\n",
    "    numbers, symbols = fragments[\"numbers\"], fragments[\"symbols\"]\n",
    "    gears = defaultdict(list)\n",
    "    for c, n in numbers.items():\n",
    "        left, right = c[0] - 1, c[0] + len(n)\n",
    "        top, bottom = c[1] - 1, c[1] + 1\n",
    "        # candidates = list(product(range(left, right+1), range(top, bottom+1)))\n",
    "        candidates = []\n",
    "        for x in range(left, right+1):\n",
    "            for y in range(top, bottom+1):\n",
    "                candidates.append((x,y))\n",
    "        # print(f\"Window for {n} is {top},{left} to {bottom},{right}, yeilding {candidates}\")\n",
    "        for x, y in candidates:\n",
    "            if (x, y) in symbols and symbols[(x, y)]==\"*\":\n",
    "                gears[(x,y)].append(int(n))\n",
    "                continue\n",
    "    return gears\n",
    "\n",
    "def get_ratios(gears):\n",
    "    ratios = []\n",
    "    for g in gears.values():\n",
    "        if len(g) == 2:\n",
    "            ratio = int(g[0]) * int(g[1])\n",
    "        else:\n",
    "            ratio = 0\n",
    "        ratios.append(ratio)\n",
    "    return ratios\n",
    "    \n",
    "print(\"Training\\n\",\n",
    "      \"Gears: \",\n",
    "      find_gears(sparsify_and_accumulate(train_data)),\n",
    "      \"/nRatios: \",\n",
    "      get_ratios(find_gears(sparsify_and_accumulate(train_data))),\n",
    "      \"/nTotal: \",\n",
    "      sum(get_ratios(find_gears(sparsify_and_accumulate(train_data)))),\n",
    "      \"(should be 467835)\"\n",
    "     )\n",
    "print(\"Test: \",\n",
    "      sum(get_ratios(find_gears(sparsify_and_accumulate(test_data))))\n",
    "     )"
   ]
  }
 ],
 "metadata": {
  "kernelspec": {
   "display_name": "Python 3 (ipykernel)",
   "language": "python",
   "name": "python3"
  },
  "language_info": {
   "codemirror_mode": {
    "name": "ipython",
    "version": 3
   },
   "file_extension": ".py",
   "mimetype": "text/x-python",
   "name": "python",
   "nbconvert_exporter": "python",
   "pygments_lexer": "ipython3",
   "version": "3.12.0"
  }
 },
 "nbformat": 4,
 "nbformat_minor": 5
}
